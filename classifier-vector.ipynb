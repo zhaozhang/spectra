{
 "cells": [
  {
   "cell_type": "markdown",
   "metadata": {},
   "source": [
    "# 1. Import Packages"
   ]
  },
  {
   "cell_type": "code",
   "execution_count": 1,
   "metadata": {},
   "outputs": [
    {
     "name": "stderr",
     "output_type": "stream",
     "text": [
      "Using TensorFlow backend.\n"
     ]
    }
   ],
   "source": [
    "import numpy as np\n",
    "from numpy.random import seed\n",
    "seed(7)\n",
    "import math\n",
    "import h5py\n",
    "from numpy import array\n",
    "from keras import initializers\n",
    "from keras.models import Sequential\n",
    "from keras.models import Model, load_model\n",
    "from keras.layers import LSTM, BatchNormalization, Activation\n",
    "from keras.layers import Conv1D, MaxPooling1D, Dense, Dropout, Flatten\n",
    "from keras.layers import RepeatVector\n",
    "from keras.layers import TimeDistributed\n",
    "from keras.utils import to_categorical\n",
    "from keras.optimizers import Adam, SGD\n",
    "from keras.losses import categorical_crossentropy\n",
    "from keras.callbacks import LearningRateScheduler, ReduceLROnPlateau, ModelCheckpoint\n",
    "from sklearn.metrics import classification_report, confusion_matrix\n",
    "from sklearn.preprocessing import MinMaxScaler, StandardScaler\n",
    "import matplotlib.pyplot as plt\n",
    "import os"
   ]
  },
  {
   "cell_type": "markdown",
   "metadata": {},
   "source": [
    "# 2. Data Normalization"
   ]
  },
  {
   "cell_type": "code",
   "execution_count": 2,
   "metadata": {},
   "outputs": [],
   "source": [
    "def scale_data(X):\n",
    "    #scaler = MinMaxScaler()\n",
    "    scaler = StandardScaler()\n",
    "    #scaler.fit(X)\n",
    "    #ret = scaler.transform(X)\n",
    "    ret = np.empty(shape = X.shape)\n",
    "    for idx,r in enumerate(X):\n",
    "        norm = np.linalg.norm(r)\n",
    "        scaled = r/norm\n",
    "        ret[idx] = scaled\n",
    "    return ret"
   ]
  },
  {
   "cell_type": "markdown",
   "metadata": {},
   "source": [
    "# 3. Label Smoothing -- only available with Keras 2.3.1+"
   ]
  },
  {
   "cell_type": "code",
   "execution_count": null,
   "metadata": {},
   "outputs": [],
   "source": [
    "def cce_function(y_true, y_pred):\n",
    "    return categorical_crossentropy(y_true, y_pred, label_smoothing=0.1)"
   ]
  },
  {
   "cell_type": "markdown",
   "metadata": {},
   "source": [
    "# 4. Read Data in Batches"
   ]
  },
  {
   "cell_type": "code",
   "execution_count": 3,
   "metadata": {},
   "outputs": [],
   "source": [
    "def batch_generator(X, Y, batch_size, shuffle=False):\n",
    "    indices = np.arange(len(X)) \n",
    "    batch=[]\n",
    "    while True:\n",
    "        # it might be a good idea to shuffle your data before each epoch\n",
    "        if shuffle:\n",
    "            np.random.shuffle(indices) \n",
    "        for i in indices:\n",
    "            batch.append(i)\n",
    "            if len(batch)==batch_size:\n",
    "                yield X[batch], Y[batch]\n",
    "                batch=[]"
   ]
  },
  {
   "cell_type": "markdown",
   "metadata": {},
   "source": [
    "# 5. Pre-processing Train/Val/Test Data"
   ]
  },
  {
   "cell_type": "code",
   "execution_count": 4,
   "metadata": {},
   "outputs": [],
   "source": [
    "train_fname = 'vector-data/train.csv'\n",
    "raw_train = open(train_fname, 'rt')\n",
    "train_data = np.loadtxt(raw_train, delimiter=\",\")\n",
    "train_X = train_data[:,1:8193]\n",
    "train_Y = train_data[:,8193]\n",
    "train_X = scale_data(train_X)\n",
    "train_Y = to_categorical(train_Y, num_classes=5)"
   ]
  },
  {
   "cell_type": "code",
   "execution_count": 5,
   "metadata": {},
   "outputs": [
    {
     "data": {
      "text/plain": [
       "[<matplotlib.lines.Line2D at 0x2acbeb9fe588>]"
      ]
     },
     "execution_count": 5,
     "metadata": {},
     "output_type": "execute_result"
    },
    {
     "data": {
      "image/png": "[encoded data removed]",
      "text/plain": [
       "<Figure size 432x288 with 1 Axes>"
      ]
     },
     "metadata": {
      "needs_background": "light"
     },
     "output_type": "display_data"
    }
   ],
   "source": [
    "plt.plot(train_X[1])"
   ]
  },
  {
   "cell_type": "code",
   "execution_count": 6,
   "metadata": {},
   "outputs": [],
   "source": [
    "val_fname = 'vector-data/val.csv'\n",
    "raw_val = open(val_fname, 'rt')\n",
    "val_data = np.loadtxt(raw_val, delimiter=\",\")\n",
    "val_X = val_data[:,1:8193]\n",
    "val_Y = val_data[:,8193]\n",
    "val_X = scale_data(val_X)\n",
    "val_Y = to_categorical(val_Y, num_classes=5)"
   ]
  },
  {
   "cell_type": "code",
   "execution_count": 7,
   "metadata": {},
   "outputs": [
    {
     "data": {
      "text/plain": [
       "[<matplotlib.lines.Line2D at 0x2acbb7df42b0>]"
      ]
     },
     "execution_count": 7,
     "metadata": {},
     "output_type": "execute_result"
    },
    {
     "data": {
      "image/png": "[encoded data removed]",
      "text/plain": [
       "<Figure size 432x288 with 1 Axes>"
      ]
     },
     "metadata": {
      "needs_background": "light"
     },
     "output_type": "display_data"
    }
   ],
   "source": [
    "plt.plot(val_X[1287])"
   ]
  },
  {
   "cell_type": "code",
   "execution_count": 8,
   "metadata": {},
   "outputs": [],
   "source": [
    "test_fname = 'vector-data/test.csv'\n",
    "raw_test = open(test_fname, 'rt')\n",
    "test_data = np.loadtxt(raw_test, delimiter=\",\")\n",
    "test_X = test_data[:,1:8193]\n",
    "test_Y = test_data[:,8193]\n",
    "test_X = scale_data(test_X)\n",
    "test_Y = to_categorical(test_Y, num_classes=5)"
   ]
  },
  {
   "cell_type": "markdown",
   "metadata": {},
   "source": [
    "# 6. Model definition -- VGG-16 like"
   ]
  },
  {
   "cell_type": "code",
   "execution_count": 9,
   "metadata": {},
   "outputs": [
    {
     "name": "stdout",
     "output_type": "stream",
     "text": [
      "WARNING:tensorflow:From /home1/00946/zzhang/.local/lib/python3.7/site-packages/keras/backend/tensorflow_backend.py:74: The name tf.get_default_graph is deprecated. Please use tf.compat.v1.get_default_graph instead.\n",
      "\n",
      "WARNING:tensorflow:From /home1/00946/zzhang/.local/lib/python3.7/site-packages/keras/backend/tensorflow_backend.py:517: The name tf.placeholder is deprecated. Please use tf.compat.v1.placeholder instead.\n",
      "\n",
      "WARNING:tensorflow:From /home1/00946/zzhang/.local/lib/python3.7/site-packages/keras/backend/tensorflow_backend.py:4185: The name tf.truncated_normal is deprecated. Please use tf.random.truncated_normal instead.\n",
      "\n",
      "WARNING:tensorflow:From /home1/00946/zzhang/.local/lib/python3.7/site-packages/keras/backend/tensorflow_backend.py:3976: The name tf.nn.max_pool is deprecated. Please use tf.nn.max_pool2d instead.\n",
      "\n",
      "WARNING:tensorflow:From /home1/00946/zzhang/.local/lib/python3.7/site-packages/keras/backend/tensorflow_backend.py:4138: The name tf.random_uniform is deprecated. Please use tf.random.uniform instead.\n",
      "\n",
      "WARNING:tensorflow:From /home1/00946/zzhang/.local/lib/python3.7/site-packages/keras/backend/tensorflow_backend.py:133: The name tf.placeholder_with_default is deprecated. Please use tf.compat.v1.placeholder_with_default instead.\n",
      "\n",
      "WARNING:tensorflow:From /home1/00946/zzhang/.local/lib/python3.7/site-packages/keras/backend/tensorflow_backend.py:3445: calling dropout (from tensorflow.python.ops.nn_ops) with keep_prob is deprecated and will be removed in a future version.\n",
      "Instructions for updating:\n",
      "Please use `rate` instead of `keep_prob`. Rate should be set to `rate = 1 - keep_prob`.\n",
      "WARNING:tensorflow:Large dropout rate: 0.7 (>0.5). In TensorFlow 2.x, dropout() uses dropout rate instead of keep_prob. Please ensure that this is intended.\n",
      "WARNING:tensorflow:Large dropout rate: 0.7 (>0.5). In TensorFlow 2.x, dropout() uses dropout rate instead of keep_prob. Please ensure that this is intended.\n"
     ]
    }
   ],
   "source": [
    "# define model\n",
    "k = 15\n",
    "train_X = train_X.reshape((len(train_X), 8192, 1))\n",
    "val_X = val_X.reshape((len(val_X), 8192, 1))\n",
    "test_X = test_X.reshape((len(test_X), 8192, 1))\n",
    "\n",
    "model = Sequential()\n",
    "model.add(Conv1D(filters=64, kernel_size=k, kernel_initializer='he_normal', padding='same', activation='relu', input_shape=(8192,1)))\n",
    "model.add(Conv1D(filters=64, kernel_size=k, kernel_initializer='he_normal', padding='same', activation='relu'))\n",
    "model.add(MaxPooling1D(pool_size=4, padding='same'))\n",
    "\n",
    "model.add(Conv1D(filters=128, kernel_size=k, kernel_initializer='he_normal', padding='same', activation='relu'))\n",
    "model.add(Conv1D(filters=128, kernel_size=k, kernel_initializer='he_normal', padding='same', activation='relu'))\n",
    "model.add(MaxPooling1D(pool_size=4, strides=4))\n",
    "\n",
    "model.add(Conv1D(filters=256, kernel_size=k, kernel_initializer='he_normal', padding='same', activation='relu'))\n",
    "model.add(Conv1D(filters=256, kernel_size=k, kernel_initializer='he_normal', padding='same', activation='relu'))\n",
    "model.add(Conv1D(filters=256, kernel_size=k, kernel_initializer='he_normal', padding='same', activation='relu'))\n",
    "model.add(MaxPooling1D(pool_size=4, strides=4))\n",
    "\n",
    "model.add(Conv1D(filters=512, kernel_size=k, kernel_initializer='he_normal', padding='same', activation='relu'))\n",
    "model.add(Conv1D(filters=512, kernel_size=k, kernel_initializer='he_normal', padding='same', activation='relu'))\n",
    "model.add(Conv1D(filters=512, kernel_size=k, kernel_initializer='he_normal', padding='same', activation='relu'))\n",
    "model.add(MaxPooling1D(pool_size=4, strides=4))\n",
    "\n",
    "model.add(Conv1D(filters=512, kernel_size=k, kernel_initializer='he_normal', padding='same', activation='relu'))\n",
    "model.add(Conv1D(filters=512, kernel_size=k, kernel_initializer='he_normal', padding='same', activation='relu'))\n",
    "model.add(Conv1D(filters=512, kernel_size=k, kernel_initializer='he_normal', padding='same', activation='relu'))\n",
    "model.add(MaxPooling1D(pool_size=4, strides=4))\n",
    "\n",
    "model.add(Flatten())\n",
    "model.add(Dense(512, activation='relu'))\n",
    "model.add(Dropout(0.7))\n",
    "model.add(Dense(512, activation='relu'))\n",
    "model.add(Dropout(0.7))\n",
    "model.add(Dense(5, activation='softmax'))"
   ]
  },
  {
   "cell_type": "markdown",
   "metadata": {},
   "source": [
    "# 7. Optimizer and Compiling Model"
   ]
  },
  {
   "cell_type": "code",
   "execution_count": 10,
   "metadata": {},
   "outputs": [
    {
     "name": "stdout",
     "output_type": "stream",
     "text": [
      "WARNING:tensorflow:From /home1/00946/zzhang/.local/lib/python3.7/site-packages/keras/optimizers.py:790: The name tf.train.Optimizer is deprecated. Please use tf.compat.v1.train.Optimizer instead.\n",
      "\n",
      "WARNING:tensorflow:From /home1/00946/zzhang/.local/lib/python3.7/site-packages/keras/backend/tensorflow_backend.py:3295: The name tf.log is deprecated. Please use tf.math.log instead.\n",
      "\n",
      "_________________________________________________________________\n",
      "Layer (type)                 Output Shape              Param #   \n",
      "=================================================================\n",
      "conv1d_1 (Conv1D)            (None, 8192, 64)          1024      \n",
      "_________________________________________________________________\n",
      "conv1d_2 (Conv1D)            (None, 8192, 64)          61504     \n",
      "_________________________________________________________________\n",
      "max_pooling1d_1 (MaxPooling1 (None, 2048, 64)          0         \n",
      "_________________________________________________________________\n",
      "conv1d_3 (Conv1D)            (None, 2048, 128)         123008    \n",
      "_________________________________________________________________\n",
      "conv1d_4 (Conv1D)            (None, 2048, 128)         245888    \n",
      "_________________________________________________________________\n",
      "max_pooling1d_2 (MaxPooling1 (None, 512, 128)          0         \n",
      "_________________________________________________________________\n",
      "conv1d_5 (Conv1D)            (None, 512, 256)          491776    \n",
      "_________________________________________________________________\n",
      "conv1d_6 (Conv1D)            (None, 512, 256)          983296    \n",
      "_________________________________________________________________\n",
      "conv1d_7 (Conv1D)            (None, 512, 256)          983296    \n",
      "_________________________________________________________________\n",
      "max_pooling1d_3 (MaxPooling1 (None, 128, 256)          0         \n",
      "_________________________________________________________________\n",
      "conv1d_8 (Conv1D)            (None, 128, 512)          1966592   \n",
      "_________________________________________________________________\n",
      "conv1d_9 (Conv1D)            (None, 128, 512)          3932672   \n",
      "_________________________________________________________________\n",
      "conv1d_10 (Conv1D)           (None, 128, 512)          3932672   \n",
      "_________________________________________________________________\n",
      "max_pooling1d_4 (MaxPooling1 (None, 32, 512)           0         \n",
      "_________________________________________________________________\n",
      "conv1d_11 (Conv1D)           (None, 32, 512)           3932672   \n",
      "_________________________________________________________________\n",
      "conv1d_12 (Conv1D)           (None, 32, 512)           3932672   \n",
      "_________________________________________________________________\n",
      "conv1d_13 (Conv1D)           (None, 32, 512)           3932672   \n",
      "_________________________________________________________________\n",
      "max_pooling1d_5 (MaxPooling1 (None, 8, 512)            0         \n",
      "_________________________________________________________________\n",
      "flatten_1 (Flatten)          (None, 4096)              0         \n",
      "_________________________________________________________________\n",
      "dense_1 (Dense)              (None, 512)               2097664   \n",
      "_________________________________________________________________\n",
      "dropout_1 (Dropout)          (None, 512)               0         \n",
      "_________________________________________________________________\n",
      "dense_2 (Dense)              (None, 512)               262656    \n",
      "_________________________________________________________________\n",
      "dropout_2 (Dropout)          (None, 512)               0         \n",
      "_________________________________________________________________\n",
      "dense_3 (Dense)              (None, 5)                 2565      \n",
      "=================================================================\n",
      "Total params: 26,882,629\n",
      "Trainable params: 26,882,629\n",
      "Non-trainable params: 0\n",
      "_________________________________________________________________\n",
      "None\n"
     ]
    }
   ],
   "source": [
    "opt = Adam(lr=1e-5, clipvalue=5)\n",
    "#model.compile(optimizer=opt, loss=cce_function, metrics=['accuracy'])\n",
    "model.compile(optimizer=opt, loss=categorical_crossentropy, metrics=['accuracy'])\n",
    "print(model.summary())"
   ]
  },
  {
   "cell_type": "markdown",
   "metadata": {},
   "source": [
    "# 8. Iteraters, Batch Size, and Callbacks"
   ]
  },
  {
   "cell_type": "code",
   "execution_count": 11,
   "metadata": {},
   "outputs": [],
   "source": [
    "batch_size = 16\n",
    "train_it = batch_generator(train_X, train_Y, batch_size, shuffle=True)\n",
    "val_it = batch_generator(val_X, val_Y, batch_size)\n",
    "\n",
    "reduce_lr = ReduceLROnPlateau(monitor='val_loss', factor=math.sqrt(0.1),\n",
    "                              patience=5, min_lr=1e-8, verbose=1)"
   ]
  },
  {
   "cell_type": "code",
   "execution_count": 12,
   "metadata": {},
   "outputs": [],
   "source": [
    "# Prepare model model saving directory.\n",
    "save_dir = os.path.join(os.getcwd(), 'saved_models')\n",
    "#model_name = 'spectra_model.{epoch:03d}.h5'\n",
    "model_name = 'spectra_model.h5'\n",
    "if not os.path.isdir(save_dir):\n",
    "    os.makedirs(save_dir)\n",
    "filepath = os.path.join(save_dir, model_name)\n",
    "\n",
    "# Prepare callbacks for model saving and for learning rate adjustment.\n",
    "checkpoint = ModelCheckpoint(filepath=filepath,\n",
    "                             monitor='val_acc',\n",
    "                             verbose=1,\n",
    "                             save_best_only=True)"
   ]
  },
  {
   "cell_type": "markdown",
   "metadata": {},
   "source": [
    "# 9. Train"
   ]
  },
  {
   "cell_type": "code",
   "execution_count": 13,
   "metadata": {
    "scrolled": true
   },
   "outputs": [
    {
     "name": "stdout",
     "output_type": "stream",
     "text": [
      "WARNING:tensorflow:From /home1/00946/zzhang/.local/lib/python3.7/site-packages/tensorflow_core/python/ops/math_grad.py:1424: where (from tensorflow.python.ops.array_ops) is deprecated and will be removed in a future version.\n",
      "Instructions for updating:\n",
      "Use tf.where in 2.0, which has the same broadcast rule as np.where\n",
      "WARNING:tensorflow:From /home1/00946/zzhang/.local/lib/python3.7/site-packages/keras/backend/tensorflow_backend.py:986: The name tf.assign_add is deprecated. Please use tf.compat.v1.assign_add instead.\n",
      "\n",
      "WARNING:tensorflow:From /home1/00946/zzhang/.local/lib/python3.7/site-packages/keras/backend/tensorflow_backend.py:973: The name tf.assign is deprecated. Please use tf.compat.v1.assign instead.\n",
      "\n",
      "WARNING:tensorflow:From /home1/00946/zzhang/.local/lib/python3.7/site-packages/keras/backend/tensorflow_backend.py:2741: The name tf.Session is deprecated. Please use tf.compat.v1.Session instead.\n",
      "\n",
      "Epoch 1/50\n",
      "WARNING:tensorflow:From /home1/00946/zzhang/.local/lib/python3.7/site-packages/keras/backend/tensorflow_backend.py:174: The name tf.get_default_session is deprecated. Please use tf.compat.v1.get_default_session instead.\n",
      "\n",
      "WARNING:tensorflow:From /home1/00946/zzhang/.local/lib/python3.7/site-packages/keras/backend/tensorflow_backend.py:184: The name tf.ConfigProto is deprecated. Please use tf.compat.v1.ConfigProto instead.\n",
      "\n",
      "WARNING:tensorflow:From /home1/00946/zzhang/.local/lib/python3.7/site-packages/keras/backend/tensorflow_backend.py:190: The name tf.global_variables is deprecated. Please use tf.compat.v1.global_variables instead.\n",
      "\n",
      "WARNING:tensorflow:From /home1/00946/zzhang/.local/lib/python3.7/site-packages/keras/backend/tensorflow_backend.py:199: The name tf.is_variable_initialized is deprecated. Please use tf.compat.v1.is_variable_initialized instead.\n",
      "\n",
      "WARNING:tensorflow:From /home1/00946/zzhang/.local/lib/python3.7/site-packages/keras/backend/tensorflow_backend.py:206: The name tf.variables_initializer is deprecated. Please use tf.compat.v1.variables_initializer instead.\n",
      "\n",
      "281/281 [==============================] - 31s 111ms/step - loss: 1.6060 - acc: 0.2229 - val_loss: 1.5837 - val_acc: 0.3344\n",
      "\n",
      "Epoch 00001: val_acc improved from -inf to 0.33437, saving model to /home1/00946/zzhang/spectra/saved_models/spectra_model.h5\n",
      "Epoch 2/50\n",
      "281/281 [==============================] - 25s 88ms/step - loss: 1.5873 - acc: 0.2662 - val_loss: 1.5613 - val_acc: 0.3367\n",
      "\n",
      "Epoch 00002: val_acc improved from 0.33437 to 0.33672, saving model to /home1/00946/zzhang/spectra/saved_models/spectra_model.h5\n",
      "Epoch 3/50\n",
      "281/281 [==============================] - 25s 89ms/step - loss: 1.5737 - acc: 0.2820 - val_loss: 1.5258 - val_acc: 0.3469\n",
      "\n",
      "Epoch 00003: val_acc improved from 0.33672 to 0.34687, saving model to /home1/00946/zzhang/spectra/saved_models/spectra_model.h5\n",
      "Epoch 4/50\n",
      "281/281 [==============================] - 25s 89ms/step - loss: 1.5436 - acc: 0.3087 - val_loss: 1.4791 - val_acc: 0.3516\n",
      "\n",
      "Epoch 00004: val_acc improved from 0.34687 to 0.35156, saving model to /home1/00946/zzhang/spectra/saved_models/spectra_model.h5\n",
      "Epoch 5/50\n",
      "281/281 [==============================] - 25s 89ms/step - loss: 1.4868 - acc: 0.3519 - val_loss: 1.3724 - val_acc: 0.3984\n",
      "\n",
      "Epoch 00005: val_acc improved from 0.35156 to 0.39844, saving model to /home1/00946/zzhang/spectra/saved_models/spectra_model.h5\n",
      "Epoch 6/50\n",
      "281/281 [==============================] - 25s 89ms/step - loss: 1.3872 - acc: 0.4084 - val_loss: 1.2920 - val_acc: 0.4570\n",
      "\n",
      "Epoch 00006: val_acc improved from 0.39844 to 0.45703, saving model to /home1/00946/zzhang/spectra/saved_models/spectra_model.h5\n",
      "Epoch 7/50\n",
      "281/281 [==============================] - 25s 89ms/step - loss: 1.3103 - acc: 0.4379 - val_loss: 1.1667 - val_acc: 0.4938\n",
      "\n",
      "Epoch 00007: val_acc improved from 0.45703 to 0.49375, saving model to /home1/00946/zzhang/spectra/saved_models/spectra_model.h5\n",
      "Epoch 8/50\n",
      "281/281 [==============================] - 25s 89ms/step - loss: 1.2254 - acc: 0.4829 - val_loss: 1.0940 - val_acc: 0.5695\n",
      "\n",
      "Epoch 00008: val_acc improved from 0.49375 to 0.56953, saving model to /home1/00946/zzhang/spectra/saved_models/spectra_model.h5\n",
      "Epoch 9/50\n",
      "281/281 [==============================] - 25s 89ms/step - loss: 1.1689 - acc: 0.5214 - val_loss: 1.0375 - val_acc: 0.5813\n",
      "\n",
      "Epoch 00009: val_acc improved from 0.56953 to 0.58125, saving model to /home1/00946/zzhang/spectra/saved_models/spectra_model.h5\n",
      "Epoch 10/50\n",
      "281/281 [==============================] - 25s 89ms/step - loss: 1.0904 - acc: 0.5507 - val_loss: 1.0030 - val_acc: 0.6305\n",
      "\n",
      "Epoch 00010: val_acc improved from 0.58125 to 0.63047, saving model to /home1/00946/zzhang/spectra/saved_models/spectra_model.h5\n",
      "Epoch 11/50\n",
      "281/281 [==============================] - 25s 89ms/step - loss: 1.0507 - acc: 0.5674 - val_loss: 0.9246 - val_acc: 0.6453\n",
      "\n",
      "Epoch 00011: val_acc improved from 0.63047 to 0.64531, saving model to /home1/00946/zzhang/spectra/saved_models/spectra_model.h5\n",
      "Epoch 12/50\n",
      "281/281 [==============================] - 25s 89ms/step - loss: 1.0081 - acc: 0.5916 - val_loss: 0.9032 - val_acc: 0.6398\n",
      "\n",
      "Epoch 00012: val_acc did not improve from 0.64531\n",
      "Epoch 13/50\n",
      "281/281 [==============================] - 25s 89ms/step - loss: 0.9550 - acc: 0.6192 - val_loss: 0.9156 - val_acc: 0.6383\n",
      "\n",
      "Epoch 00013: val_acc did not improve from 0.64531\n",
      "Epoch 14/50\n",
      "281/281 [==============================] - 25s 89ms/step - loss: 0.9446 - acc: 0.6321 - val_loss: 0.8752 - val_acc: 0.6578\n",
      "\n",
      "Epoch 00014: val_acc improved from 0.64531 to 0.65781, saving model to /home1/00946/zzhang/spectra/saved_models/spectra_model.h5\n",
      "Epoch 15/50\n",
      "281/281 [==============================] - 25s 89ms/step - loss: 0.8816 - acc: 0.6599 - val_loss: 0.8394 - val_acc: 0.6758\n",
      "\n",
      "Epoch 00015: val_acc improved from 0.65781 to 0.67578, saving model to /home1/00946/zzhang/spectra/saved_models/spectra_model.h5\n",
      "Epoch 16/50\n",
      "281/281 [==============================] - 25s 89ms/step - loss: 0.8453 - acc: 0.6706 - val_loss: 0.8281 - val_acc: 0.6867\n",
      "\n",
      "Epoch 00016: val_acc improved from 0.67578 to 0.68672, saving model to /home1/00946/zzhang/spectra/saved_models/spectra_model.h5\n",
      "Epoch 17/50\n",
      "281/281 [==============================] - 25s 89ms/step - loss: 0.8207 - acc: 0.6868 - val_loss: 0.8447 - val_acc: 0.6828\n",
      "\n",
      "Epoch 00017: val_acc did not improve from 0.68672\n",
      "Epoch 18/50\n",
      "281/281 [==============================] - 25s 89ms/step - loss: 0.7781 - acc: 0.7015 - val_loss: 0.7938 - val_acc: 0.6977\n",
      "\n",
      "Epoch 00018: val_acc improved from 0.68672 to 0.69766, saving model to /home1/00946/zzhang/spectra/saved_models/spectra_model.h5\n",
      "Epoch 19/50\n",
      "281/281 [==============================] - 25s 89ms/step - loss: 0.7491 - acc: 0.7109 - val_loss: 0.8023 - val_acc: 0.7180\n",
      "\n",
      "Epoch 00019: val_acc improved from 0.69766 to 0.71797, saving model to /home1/00946/zzhang/spectra/saved_models/spectra_model.h5\n",
      "Epoch 20/50\n",
      "281/281 [==============================] - 25s 89ms/step - loss: 0.7134 - acc: 0.7289 - val_loss: 0.7282 - val_acc: 0.7352\n",
      "\n",
      "Epoch 00020: val_acc improved from 0.71797 to 0.73516, saving model to /home1/00946/zzhang/spectra/saved_models/spectra_model.h5\n",
      "Epoch 21/50\n",
      "281/281 [==============================] - 25s 89ms/step - loss: 0.6815 - acc: 0.7418 - val_loss: 0.7153 - val_acc: 0.7312\n",
      "\n",
      "Epoch 00021: val_acc did not improve from 0.73516\n",
      "Epoch 22/50\n",
      "281/281 [==============================] - 25s 89ms/step - loss: 0.6423 - acc: 0.7662 - val_loss: 0.6885 - val_acc: 0.7523\n",
      "\n",
      "Epoch 00022: val_acc improved from 0.73516 to 0.75234, saving model to /home1/00946/zzhang/spectra/saved_models/spectra_model.h5\n",
      "Epoch 23/50\n",
      "281/281 [==============================] - 25s 89ms/step - loss: 0.6074 - acc: 0.7769 - val_loss: 0.7018 - val_acc: 0.7438\n",
      "\n",
      "Epoch 00023: val_acc did not improve from 0.75234\n",
      "Epoch 24/50\n",
      "281/281 [==============================] - 25s 89ms/step - loss: 0.5940 - acc: 0.7760 - val_loss: 0.6600 - val_acc: 0.7578\n",
      "\n",
      "Epoch 00024: val_acc improved from 0.75234 to 0.75781, saving model to /home1/00946/zzhang/spectra/saved_models/spectra_model.h5\n",
      "Epoch 25/50\n",
      "281/281 [==============================] - 25s 89ms/step - loss: 0.5340 - acc: 0.8056 - val_loss: 0.6650 - val_acc: 0.7508\n",
      "\n",
      "Epoch 00025: val_acc did not improve from 0.75781\n",
      "Epoch 26/50\n"
     ]
    },
    {
     "name": "stdout",
     "output_type": "stream",
     "text": [
      "281/281 [==============================] - 25s 89ms/step - loss: 0.5255 - acc: 0.8072 - val_loss: 0.7988 - val_acc: 0.7016\n",
      "\n",
      "Epoch 00026: val_acc did not improve from 0.75781\n",
      "Epoch 27/50\n",
      "281/281 [==============================] - 25s 89ms/step - loss: 0.5016 - acc: 0.8236 - val_loss: 0.6939 - val_acc: 0.7391\n",
      "\n",
      "Epoch 00027: val_acc did not improve from 0.75781\n",
      "Epoch 28/50\n",
      "281/281 [==============================] - 25s 89ms/step - loss: 0.4610 - acc: 0.8350 - val_loss: 0.6627 - val_acc: 0.7680\n",
      "\n",
      "Epoch 00028: val_acc improved from 0.75781 to 0.76797, saving model to /home1/00946/zzhang/spectra/saved_models/spectra_model.h5\n",
      "Epoch 29/50\n",
      "281/281 [==============================] - 25s 89ms/step - loss: 0.4435 - acc: 0.8432 - val_loss: 0.6525 - val_acc: 0.7789\n",
      "\n",
      "Epoch 00029: val_acc improved from 0.76797 to 0.77891, saving model to /home1/00946/zzhang/spectra/saved_models/spectra_model.h5\n",
      "Epoch 30/50\n",
      "281/281 [==============================] - 25s 89ms/step - loss: 0.4120 - acc: 0.8583 - val_loss: 0.6528 - val_acc: 0.7656\n",
      "\n",
      "Epoch 00030: val_acc did not improve from 0.77891\n",
      "Epoch 31/50\n",
      "281/281 [==============================] - 25s 89ms/step - loss: 0.3875 - acc: 0.8659 - val_loss: 0.7015 - val_acc: 0.7531\n",
      "\n",
      "Epoch 00031: val_acc did not improve from 0.77891\n",
      "Epoch 32/50\n",
      "281/281 [==============================] - 25s 89ms/step - loss: 0.3544 - acc: 0.8754 - val_loss: 0.6574 - val_acc: 0.7867\n",
      "\n",
      "Epoch 00032: val_acc improved from 0.77891 to 0.78672, saving model to /home1/00946/zzhang/spectra/saved_models/spectra_model.h5\n",
      "Epoch 33/50\n",
      "281/281 [==============================] - 25s 89ms/step - loss: 0.3357 - acc: 0.8863 - val_loss: 0.7023 - val_acc: 0.7758\n",
      "\n",
      "Epoch 00033: val_acc did not improve from 0.78672\n",
      "Epoch 34/50\n",
      "281/281 [==============================] - 25s 89ms/step - loss: 0.3176 - acc: 0.8946 - val_loss: 0.6219 - val_acc: 0.7859\n",
      "\n",
      "Epoch 00034: val_acc did not improve from 0.78672\n",
      "Epoch 35/50\n",
      "281/281 [==============================] - 25s 89ms/step - loss: 0.2835 - acc: 0.8979 - val_loss: 0.6609 - val_acc: 0.7891\n",
      "\n",
      "Epoch 00035: val_acc improved from 0.78672 to 0.78906, saving model to /home1/00946/zzhang/spectra/saved_models/spectra_model.h5\n",
      "Epoch 36/50\n",
      "281/281 [==============================] - 25s 89ms/step - loss: 0.2926 - acc: 0.8944 - val_loss: 0.6237 - val_acc: 0.7891\n",
      "\n",
      "Epoch 00036: val_acc did not improve from 0.78906\n",
      "Epoch 37/50\n",
      "281/281 [==============================] - 25s 89ms/step - loss: 0.2439 - acc: 0.9195 - val_loss: 0.7556 - val_acc: 0.7680\n",
      "\n",
      "Epoch 00037: val_acc did not improve from 0.78906\n",
      "Epoch 38/50\n",
      "281/281 [==============================] - 25s 89ms/step - loss: 0.2279 - acc: 0.9224 - val_loss: 0.6743 - val_acc: 0.8094\n",
      "\n",
      "Epoch 00038: val_acc improved from 0.78906 to 0.80937, saving model to /home1/00946/zzhang/spectra/saved_models/spectra_model.h5\n",
      "Epoch 39/50\n",
      "281/281 [==============================] - 25s 89ms/step - loss: 0.2313 - acc: 0.9204 - val_loss: 0.8061 - val_acc: 0.7789\n",
      "\n",
      "Epoch 00039: ReduceLROnPlateau reducing learning rate to 3.1622775802825263e-06.\n",
      "\n",
      "Epoch 00039: val_acc did not improve from 0.80937\n",
      "Epoch 40/50\n",
      "281/281 [==============================] - 25s 89ms/step - loss: 0.1561 - acc: 0.9531 - val_loss: 0.6920 - val_acc: 0.8031\n",
      "\n",
      "Epoch 00040: val_acc did not improve from 0.80937\n",
      "Epoch 41/50\n",
      "281/281 [==============================] - 25s 89ms/step - loss: 0.1276 - acc: 0.9606 - val_loss: 0.7265 - val_acc: 0.8031\n",
      "\n",
      "Epoch 00041: val_acc did not improve from 0.80937\n",
      "Epoch 42/50\n",
      "281/281 [==============================] - 25s 89ms/step - loss: 0.1127 - acc: 0.9660 - val_loss: 0.7699 - val_acc: 0.8031\n",
      "\n",
      "Epoch 00042: val_acc did not improve from 0.80937\n",
      "Epoch 43/50\n",
      "281/281 [==============================] - 25s 89ms/step - loss: 0.1222 - acc: 0.9620 - val_loss: 0.8035 - val_acc: 0.7937\n",
      "\n",
      "Epoch 00043: val_acc did not improve from 0.80937\n",
      "Epoch 44/50\n",
      "281/281 [==============================] - 25s 89ms/step - loss: 0.0963 - acc: 0.9726 - val_loss: 0.8298 - val_acc: 0.7977\n",
      "\n",
      "Epoch 00044: ReduceLROnPlateau reducing learning rate to 9.99999983430526e-07.\n",
      "\n",
      "Epoch 00044: val_acc did not improve from 0.80937\n",
      "Epoch 45/50\n",
      "281/281 [==============================] - 25s 89ms/step - loss: 0.0840 - acc: 0.9766 - val_loss: 0.7896 - val_acc: 0.8000\n",
      "\n",
      "Epoch 00045: val_acc did not improve from 0.80937\n",
      "Epoch 46/50\n",
      "281/281 [==============================] - 25s 89ms/step - loss: 0.0786 - acc: 0.9793 - val_loss: 0.7878 - val_acc: 0.8016\n",
      "\n",
      "Epoch 00046: val_acc did not improve from 0.80937\n",
      "Epoch 47/50\n",
      "281/281 [==============================] - 25s 89ms/step - loss: 0.0725 - acc: 0.9791 - val_loss: 0.8319 - val_acc: 0.8008\n",
      "\n",
      "Epoch 00047: val_acc did not improve from 0.80937\n",
      "Epoch 48/50\n",
      "281/281 [==============================] - 25s 89ms/step - loss: 0.0751 - acc: 0.9795 - val_loss: 0.8408 - val_acc: 0.7977\n",
      "\n",
      "Epoch 00048: val_acc did not improve from 0.80937\n",
      "Epoch 49/50\n",
      "281/281 [==============================] - 25s 89ms/step - loss: 0.0699 - acc: 0.9771 - val_loss: 0.8499 - val_acc: 0.8055\n",
      "\n",
      "Epoch 00049: ReduceLROnPlateau reducing learning rate to 3.162277652184396e-07.\n",
      "\n",
      "Epoch 00049: val_acc did not improve from 0.80937\n",
      "Epoch 50/50\n",
      "281/281 [==============================] - 25s 89ms/step - loss: 0.0653 - acc: 0.9818 - val_loss: 0.8496 - val_acc: 0.8063\n",
      "\n",
      "Epoch 00050: val_acc did not improve from 0.80937\n"
     ]
    },
    {
     "data": {
      "text/plain": [
       "<keras.callbacks.History at 0x2acbdf80f5f8>"
      ]
     },
     "execution_count": 13,
     "metadata": {},
     "output_type": "execute_result"
    }
   ],
   "source": [
    "model.fit_generator(train_it,\n",
    "                    steps_per_epoch=len(train_X)//batch_size,\n",
    "                    validation_data=val_it,\n",
    "                    validation_steps=len(val_X)//batch_size,\n",
    "                    epochs=50,\n",
    "                    callbacks=[reduce_lr, checkpoint],\n",
    "                    verbose=1)"
   ]
  },
  {
   "cell_type": "markdown",
   "metadata": {},
   "source": [
    "# 10. Validate"
   ]
  },
  {
   "cell_type": "code",
   "execution_count": 14,
   "metadata": {},
   "outputs": [],
   "source": [
    "from sklearn.utils.multiclass import unique_labels\n",
    "\n",
    "def plot_confusion_matrix(y_true, y_pred, classes,\n",
    "                          normalize=False,\n",
    "                          title=None,\n",
    "                          cmap=plt.cm.Blues):\n",
    "    \"\"\"\n",
    "    This function prints and plots the confusion matrix.\n",
    "    Normalization can be applied by setting `normalize=True`.\n",
    "    \"\"\"\n",
    "    if not title:\n",
    "        if normalize:\n",
    "            title = 'Normalized confusion matrix'\n",
    "        else:\n",
    "            title = 'Confusion matrix, without normalization'\n",
    "    # Compute confusion matrix\n",
    "    cm = confusion_matrix(y_true, y_pred)\n",
    "    # Only use the labels that appear in the data\n",
    "    classes = classes[unique_labels(y_true, y_pred)]\n",
    "    if normalize:\n",
    "        cm = cm.astype('float') / cm.sum(axis=1)[:, np.newaxis]\n",
    "        print(\"Normalized confusion matrix\")\n",
    "    else:\n",
    "        print('Confusion matrix, without normalization')\n",
    "    fig, ax = plt.subplots()\n",
    "    im = ax.imshow(cm, interpolation='nearest', cmap=cmap)\n",
    "    ax.figure.colorbar(im, ax=ax)\n",
    "    # We want to show all ticks...\n",
    "    ax.set(xticks=np.arange(cm.shape[1]),\n",
    "           yticks=np.arange(cm.shape[0]),\n",
    "           # ... and label them with the respective list entries\n",
    "           xticklabels=classes, yticklabels=classes,\n",
    "           title=title,\n",
    "           ylabel='Measured Performance',\n",
    "           xlabel='Predicted Performance')\n",
    "    # Rotate the tick labels and set their alignment.\n",
    "    plt.setp(ax.get_xticklabels(), rotation=45, ha=\"right\",\n",
    "             rotation_mode=\"anchor\")\n",
    "    # Loop over data dimensions and create text annotations.\n",
    "    fmt = '.2f' if normalize else 'd'\n",
    "    thresh = cm.max() / 2.\n",
    "    for i in range(cm.shape[0]):\n",
    "        for j in range(cm.shape[1]):\n",
    "            ax.text(j, i, format(cm[i, j], fmt),\n",
    "                    ha=\"center\", va=\"center\",\n",
    "                    color=\"white\" if cm[i, j] > thresh else \"black\")\n",
    "    fig.tight_layout()\n",
    "    return ax"
   ]
  },
  {
   "cell_type": "code",
   "execution_count": 15,
   "metadata": {},
   "outputs": [
    {
     "name": "stdout",
     "output_type": "stream",
     "text": [
      "Confusion Matrix\n",
      "[[260  12  15   8   5]\n",
      " [ 18 186  34   3   9]\n",
      " [ 25  32 209   7   4]\n",
      " [  5   9  10 165  15]\n",
      " [  5  13   4  15 220]]\n",
      "Confusion matrix, without normalization\n"
     ]
    },
    {
     "data": {
      "text/plain": [
       "<matplotlib.axes._subplots.AxesSubplot at 0x2acbb7e31550>"
      ]
     },
     "execution_count": 15,
     "metadata": {},
     "output_type": "execute_result"
    },
    {
     "data": {
      "image/png": "[encoded data removed]",
      "text/plain": [
       "<Figure size 432x288 with 2 Axes>"
      ]
     },
     "metadata": {
      "needs_background": "light"
     },
     "output_type": "display_data"
    }
   ],
   "source": [
    "val_it = batch_generator(val_X, val_Y, 1)\n",
    "Y_pred = model.predict_generator(val_it, 1288)\n",
    "y_pred = np.argmax(Y_pred, axis=1)\n",
    "\n",
    "print('Confusion Matrix')\n",
    "print(confusion_matrix(val_data[:,8193], y_pred))\n",
    "plot_confusion_matrix(array(np.argmax(val_Y, axis=1)), array(y_pred), classes=array(['Ia', 'Ib', 'Ic', 'IIn', 'IIP']), title='Confusion matrix, without normalization')"
   ]
  },
  {
   "cell_type": "markdown",
   "metadata": {},
   "source": [
    "# 11. Test"
   ]
  },
  {
   "cell_type": "code",
   "execution_count": 16,
   "metadata": {
    "scrolled": true
   },
   "outputs": [
    {
     "name": "stdout",
     "output_type": "stream",
     "text": [
      "Confusion Matrix\n",
      "[[128  10   7   3   2]\n",
      " [  4  94  21   1   5]\n",
      " [  7  21 106   4   1]\n",
      " [  1   3   4  91   4]\n",
      " [  3  12   3   4 107]]\n"
     ]
    }
   ],
   "source": [
    "test_it = batch_generator(test_X, test_Y, 1)\n",
    "Y_pred = model.predict_generator(test_it, len(test_X))\n",
    "y_pred = np.argmax(Y_pred, axis=1)\n",
    "\n",
    "print('Confusion Matrix')\n",
    "print(confusion_matrix(test_data[:,8193], y_pred))"
   ]
  },
  {
   "cell_type": "markdown",
   "metadata": {},
   "source": [
    "# 12. Visualizing Test Result in Confusion Matrix"
   ]
  },
  {
   "cell_type": "code",
   "execution_count": 17,
   "metadata": {},
   "outputs": [
    {
     "name": "stdout",
     "output_type": "stream",
     "text": [
      "Confusion matrix, without normalization\n"
     ]
    },
    {
     "data": {
      "text/plain": [
       "<matplotlib.axes._subplots.AxesSubplot at 0x2acbb816ad30>"
      ]
     },
     "execution_count": 17,
     "metadata": {},
     "output_type": "execute_result"
    },
    {
     "data": {
      "image/png": "[encoded data removed]",
      "text/plain": [
       "<Figure size 432x288 with 2 Axes>"
      ]
     },
     "metadata": {
      "needs_background": "light"
     },
     "output_type": "display_data"
    }
   ],
   "source": [
    "plot_confusion_matrix(array(np.argmax(test_Y, axis=1)), array(y_pred), classes=array(['Ia', 'Ib', 'Ic', 'IIn', 'IIP']), title='Confusion matrix, without normalization')"
   ]
  },
  {
   "cell_type": "markdown",
   "metadata": {},
   "source": [
    "# 13. Load Model"
   ]
  },
  {
   "cell_type": "code",
   "execution_count": 18,
   "metadata": {},
   "outputs": [
    {
     "name": "stdout",
     "output_type": "stream",
     "text": [
      "WARNING:tensorflow:Large dropout rate: 0.7 (>0.5). In TensorFlow 2.x, dropout() uses dropout rate instead of keep_prob. Please ensure that this is intended.\n",
      "WARNING:tensorflow:Large dropout rate: 0.7 (>0.5). In TensorFlow 2.x, dropout() uses dropout rate instead of keep_prob. Please ensure that this is intended.\n"
     ]
    }
   ],
   "source": [
    "l_model = load_model(\"saved_models/spectra_model.h5\")"
   ]
  },
  {
   "cell_type": "markdown",
   "metadata": {},
   "source": [
    "# 14. Single Prediction"
   ]
  },
  {
   "cell_type": "code",
   "execution_count": 19,
   "metadata": {},
   "outputs": [
    {
     "name": "stdout",
     "output_type": "stream",
     "text": [
      "predict: 2, label: 2\n"
     ]
    }
   ],
   "source": [
    "idx = np.random.randint(0, len(test_X))\n",
    "pred = l_model.predict(test_X[idx].reshape(1,8192,1))\n",
    "print(f\"predict: {np.argmax(pred)}, label: {np.argmax(test_Y[idx])}\")"
   ]
  },
  {
   "cell_type": "markdown",
   "metadata": {},
   "source": [
    "# 15. Batch Prediction -- Test"
   ]
  },
  {
   "cell_type": "code",
   "execution_count": 20,
   "metadata": {},
   "outputs": [
    {
     "name": "stdout",
     "output_type": "stream",
     "text": [
      "Confusion Matrix\n",
      "[[123   9  14   3   1]\n",
      " [  2  88  24   5   6]\n",
      " [  5  20 108   4   2]\n",
      " [  1   3   4  90   5]\n",
      " [  4   5   5  10 105]]\n"
     ]
    }
   ],
   "source": [
    "test_it = batch_generator(test_X, test_Y, 1)\n",
    "Y_pred = l_model.predict_generator(test_it, len(test_X))\n",
    "y_pred = np.argmax(Y_pred, axis=1)\n",
    "\n",
    "print('Confusion Matrix')\n",
    "print(confusion_matrix(test_data[:,8193], y_pred))"
   ]
  },
  {
   "cell_type": "code",
   "execution_count": 21,
   "metadata": {},
   "outputs": [
    {
     "name": "stdout",
     "output_type": "stream",
     "text": [
      "Confusion matrix, without normalization\n"
     ]
    },
    {
     "data": {
      "text/plain": [
       "<matplotlib.axes._subplots.AxesSubplot at 0x2acbcd862940>"
      ]
     },
     "execution_count": 21,
     "metadata": {},
     "output_type": "execute_result"
    },
    {
     "data": {
      "image/png": "[encoded data removed]",
      "text/plain": [
       "<Figure size 432x288 with 2 Axes>"
      ]
     },
     "metadata": {
      "needs_background": "light"
     },
     "output_type": "display_data"
    }
   ],
   "source": [
    "plot_confusion_matrix(array(np.argmax(test_Y, axis=1)), array(y_pred), classes=array(['Ia', 'Ib', 'Ic', 'IIn', 'IIP']), title='Confusion matrix, without normalization')"
   ]
  },
  {
   "cell_type": "code",
   "execution_count": null,
   "metadata": {},
   "outputs": [],
   "source": []
  }
 ],
 "metadata": {
  "kernelspec": {
   "display_name": "Python 3",
   "language": "python",
   "name": "python3"
  },
  "language_info": {
   "codemirror_mode": {
    "name": "ipython",
    "version": 3
   },
   "file_extension": ".py",
   "mimetype": "text/x-python",
   "name": "python",
   "nbconvert_exporter": "python",
   "pygments_lexer": "ipython3",
   "version": "3.7.0"
  }
 },
 "nbformat": 4,
 "nbformat_minor": 2
}
