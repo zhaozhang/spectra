{
 "cells": [
  {
   "cell_type": "code",
   "execution_count": 1,
   "metadata": {},
   "outputs": [
    {
     "name": "stderr",
     "output_type": "stream",
     "text": [
      "Using TensorFlow backend.\n"
     ]
    }
   ],
   "source": [
    "import numpy as np\n",
    "from numpy.random import seed\n",
    "seed(7)\n",
    "import math\n",
    "from numpy import array\n",
    "from keras import initializers\n",
    "from keras.models import Sequential\n",
    "from keras.models import Model\n",
    "from keras.layers import LSTM, BatchNormalization, Activation\n",
    "from keras.layers import Conv1D, MaxPooling1D, Dense, Dropout, Flatten\n",
    "from keras.layers import RepeatVector\n",
    "from keras.layers import TimeDistributed\n",
    "from keras.utils import to_categorical\n",
    "from keras.optimizers import Adam, SGD\n",
    "from keras.losses import categorical_crossentropy\n",
    "from keras.callbacks import LearningRateScheduler, ReduceLROnPlateau\n",
    "from sklearn.metrics import classification_report, confusion_matrix\n",
    "from sklearn.preprocessing import MinMaxScaler, StandardScaler\n",
    "import matplotlib.pyplot as plt"
   ]
  },
  {
   "cell_type": "code",
   "execution_count": 2,
   "metadata": {},
   "outputs": [],
   "source": [
    "def scale_data(X):\n",
    "    #scaler = MinMaxScaler()\n",
    "    scaler = StandardScaler()\n",
    "    #scaler.fit(X)\n",
    "    #ret = scaler.transform(X)\n",
    "    ret = np.empty(shape = X.shape)\n",
    "    for idx,r in enumerate(X):\n",
    "        norm = np.linalg.norm(r)\n",
    "        scaled = r/norm\n",
    "        ret[idx] = scaled\n",
    "    return ret"
   ]
  },
  {
   "cell_type": "code",
   "execution_count": 3,
   "metadata": {},
   "outputs": [],
   "source": [
    "def cce_function(y_true, y_pred):\n",
    "    return categorical_crossentropy(y_true, y_pred, label_smoothing=0.1)"
   ]
  },
  {
   "cell_type": "code",
   "execution_count": 4,
   "metadata": {},
   "outputs": [],
   "source": [
    "def batch_generator(X, Y, batch_size, shuffle=False):\n",
    "    indices = np.arange(len(X)) \n",
    "    batch=[]\n",
    "    while True:\n",
    "        # it might be a good idea to shuffle your data before each epoch\n",
    "        if shuffle:\n",
    "            np.random.shuffle(indices) \n",
    "        for i in indices:\n",
    "            batch.append(i)\n",
    "            if len(batch)==batch_size:\n",
    "                yield X[batch], Y[batch]\n",
    "                batch=[]"
   ]
  },
  {
   "cell_type": "code",
   "execution_count": 5,
   "metadata": {},
   "outputs": [],
   "source": [
    "train_fname = 'vector-data/train.csv'\n",
    "raw_train = open(train_fname, 'rt')\n",
    "train_data = np.loadtxt(raw_train, delimiter=\",\")\n",
    "train_X = train_data[:,1:8193]\n",
    "train_Y = train_data[:,8193]\n",
    "train_X = scale_data(train_X)\n",
    "train_Y = to_categorical(train_Y, num_classes=5)"
   ]
  },
  {
   "cell_type": "code",
   "execution_count": null,
   "metadata": {},
   "outputs": [],
   "source": [
    "plt.plot(train_X[1])"
   ]
  },
  {
   "cell_type": "code",
   "execution_count": 6,
   "metadata": {},
   "outputs": [],
   "source": [
    "val_fname = 'vector-data/val.csv'\n",
    "raw_val = open(val_fname, 'rt')\n",
    "val_data = np.loadtxt(raw_val, delimiter=\",\")\n",
    "val_X = val_data[:,1:8193]\n",
    "val_Y = val_data[:,8193]\n",
    "val_X = scale_data(val_X)\n",
    "val_Y = to_categorical(val_Y, num_classes=5)"
   ]
  },
  {
   "cell_type": "code",
   "execution_count": null,
   "metadata": {},
   "outputs": [],
   "source": [
    "plt.plot(val_X[1287])"
   ]
  },
  {
   "cell_type": "code",
   "execution_count": 7,
   "metadata": {},
   "outputs": [],
   "source": [
    "test_fname = 'vector-data/test.csv'\n",
    "raw_test = open(test_fname, 'rt')\n",
    "test_data = np.loadtxt(raw_test, delimiter=\",\")\n",
    "test_X = test_data[:,1:8193]\n",
    "test_Y = test_data[:,8193]\n",
    "test_X = scale_data(test_X)\n",
    "test_Y = to_categorical(test_Y, num_classes=5)"
   ]
  },
  {
   "cell_type": "code",
   "execution_count": 8,
   "metadata": {},
   "outputs": [
    {
     "name": "stdout",
     "output_type": "stream",
     "text": [
      "WARNING:tensorflow:From /home1/00946/zzhang/.local/lib/python3.7/site-packages/keras/backend/tensorflow_backend.py:74: The name tf.get_default_graph is deprecated. Please use tf.compat.v1.get_default_graph instead.\n",
      "\n",
      "WARNING:tensorflow:From /home1/00946/zzhang/.local/lib/python3.7/site-packages/keras/backend/tensorflow_backend.py:517: The name tf.placeholder is deprecated. Please use tf.compat.v1.placeholder instead.\n",
      "\n",
      "WARNING:tensorflow:From /home1/00946/zzhang/.local/lib/python3.7/site-packages/keras/backend/tensorflow_backend.py:4185: The name tf.truncated_normal is deprecated. Please use tf.random.truncated_normal instead.\n",
      "\n",
      "WARNING:tensorflow:From /home1/00946/zzhang/.local/lib/python3.7/site-packages/keras/backend/tensorflow_backend.py:3976: The name tf.nn.max_pool is deprecated. Please use tf.nn.max_pool2d instead.\n",
      "\n",
      "WARNING:tensorflow:From /home1/00946/zzhang/.local/lib/python3.7/site-packages/keras/backend/tensorflow_backend.py:4138: The name tf.random_uniform is deprecated. Please use tf.random.uniform instead.\n",
      "\n",
      "WARNING:tensorflow:From /home1/00946/zzhang/.local/lib/python3.7/site-packages/keras/backend/tensorflow_backend.py:133: The name tf.placeholder_with_default is deprecated. Please use tf.compat.v1.placeholder_with_default instead.\n",
      "\n",
      "WARNING:tensorflow:From /home1/00946/zzhang/.local/lib/python3.7/site-packages/keras/backend/tensorflow_backend.py:3445: calling dropout (from tensorflow.python.ops.nn_ops) with keep_prob is deprecated and will be removed in a future version.\n",
      "Instructions for updating:\n",
      "Please use `rate` instead of `keep_prob`. Rate should be set to `rate = 1 - keep_prob`.\n",
      "WARNING:tensorflow:Large dropout rate: 0.7 (>0.5). In TensorFlow 2.x, dropout() uses dropout rate instead of keep_prob. Please ensure that this is intended.\n",
      "WARNING:tensorflow:Large dropout rate: 0.7 (>0.5). In TensorFlow 2.x, dropout() uses dropout rate instead of keep_prob. Please ensure that this is intended.\n"
     ]
    }
   ],
   "source": [
    "# define model\n",
    "k = 15\n",
    "train_X = train_X.reshape((len(train_X), 8192, 1))\n",
    "val_X = val_X.reshape((len(val_X), 8192, 1))\n",
    "test_X = test_X.reshape((len(test_X), 8192, 1))\n",
    "\n",
    "model = Sequential()\n",
    "model.add(Conv1D(filters=64, kernel_size=k, kernel_initializer='he_normal', padding='same', activation='relu', input_shape=(8192,1)))\n",
    "model.add(Conv1D(filters=64, kernel_size=k, kernel_initializer='he_normal', padding='same', activation='relu'))\n",
    "model.add(MaxPooling1D(pool_size=4, padding='same'))\n",
    "\n",
    "model.add(Conv1D(filters=128, kernel_size=k, kernel_initializer='he_normal', padding='same', activation='relu'))\n",
    "model.add(Conv1D(filters=128, kernel_size=k, kernel_initializer='he_normal', padding='same', activation='relu'))\n",
    "model.add(MaxPooling1D(pool_size=4, strides=4))\n",
    "\n",
    "model.add(Conv1D(filters=256, kernel_size=k, kernel_initializer='he_normal', padding='same', activation='relu'))\n",
    "model.add(Conv1D(filters=256, kernel_size=k, kernel_initializer='he_normal', padding='same', activation='relu'))\n",
    "model.add(Conv1D(filters=256, kernel_size=k, kernel_initializer='he_normal', padding='same', activation='relu'))\n",
    "model.add(MaxPooling1D(pool_size=4, strides=4))\n",
    "\n",
    "model.add(Conv1D(filters=512, kernel_size=k, kernel_initializer='he_normal', padding='same', activation='relu'))\n",
    "model.add(Conv1D(filters=512, kernel_size=k, kernel_initializer='he_normal', padding='same', activation='relu'))\n",
    "model.add(Conv1D(filters=512, kernel_size=k, kernel_initializer='he_normal', padding='same', activation='relu'))\n",
    "model.add(MaxPooling1D(pool_size=4, strides=4))\n",
    "\n",
    "model.add(Conv1D(filters=512, kernel_size=k, kernel_initializer='he_normal', padding='same', activation='relu'))\n",
    "model.add(Conv1D(filters=512, kernel_size=k, kernel_initializer='he_normal', padding='same', activation='relu'))\n",
    "model.add(Conv1D(filters=512, kernel_size=k, kernel_initializer='he_normal', padding='same', activation='relu'))\n",
    "model.add(MaxPooling1D(pool_size=4, strides=4))\n",
    "\n",
    "model.add(Flatten())\n",
    "model.add(Dense(512, activation='relu'))\n",
    "model.add(Dropout(0.7))\n",
    "model.add(Dense(512, activation='relu'))\n",
    "model.add(Dropout(0.7))\n",
    "model.add(Dense(5, activation='softmax'))"
   ]
  },
  {
   "cell_type": "code",
   "execution_count": 10,
   "metadata": {},
   "outputs": [
    {
     "name": "stdout",
     "output_type": "stream",
     "text": [
      "WARNING:tensorflow:From /home1/00946/zzhang/.local/lib/python3.7/site-packages/keras/backend/tensorflow_backend.py:3295: The name tf.log is deprecated. Please use tf.math.log instead.\n",
      "\n",
      "_________________________________________________________________\n",
      "Layer (type)                 Output Shape              Param #   \n",
      "=================================================================\n",
      "conv1d_1 (Conv1D)            (None, 8192, 64)          1024      \n",
      "_________________________________________________________________\n",
      "conv1d_2 (Conv1D)            (None, 8192, 64)          61504     \n",
      "_________________________________________________________________\n",
      "max_pooling1d_1 (MaxPooling1 (None, 2048, 64)          0         \n",
      "_________________________________________________________________\n",
      "conv1d_3 (Conv1D)            (None, 2048, 128)         123008    \n",
      "_________________________________________________________________\n",
      "conv1d_4 (Conv1D)            (None, 2048, 128)         245888    \n",
      "_________________________________________________________________\n",
      "max_pooling1d_2 (MaxPooling1 (None, 512, 128)          0         \n",
      "_________________________________________________________________\n",
      "conv1d_5 (Conv1D)            (None, 512, 256)          491776    \n",
      "_________________________________________________________________\n",
      "conv1d_6 (Conv1D)            (None, 512, 256)          983296    \n",
      "_________________________________________________________________\n",
      "conv1d_7 (Conv1D)            (None, 512, 256)          983296    \n",
      "_________________________________________________________________\n",
      "max_pooling1d_3 (MaxPooling1 (None, 128, 256)          0         \n",
      "_________________________________________________________________\n",
      "conv1d_8 (Conv1D)            (None, 128, 512)          1966592   \n",
      "_________________________________________________________________\n",
      "conv1d_9 (Conv1D)            (None, 128, 512)          3932672   \n",
      "_________________________________________________________________\n",
      "conv1d_10 (Conv1D)           (None, 128, 512)          3932672   \n",
      "_________________________________________________________________\n",
      "max_pooling1d_4 (MaxPooling1 (None, 32, 512)           0         \n",
      "_________________________________________________________________\n",
      "conv1d_11 (Conv1D)           (None, 32, 512)           3932672   \n",
      "_________________________________________________________________\n",
      "conv1d_12 (Conv1D)           (None, 32, 512)           3932672   \n",
      "_________________________________________________________________\n",
      "conv1d_13 (Conv1D)           (None, 32, 512)           3932672   \n",
      "_________________________________________________________________\n",
      "max_pooling1d_5 (MaxPooling1 (None, 8, 512)            0         \n",
      "_________________________________________________________________\n",
      "flatten_1 (Flatten)          (None, 4096)              0         \n",
      "_________________________________________________________________\n",
      "dense_1 (Dense)              (None, 512)               2097664   \n",
      "_________________________________________________________________\n",
      "dropout_1 (Dropout)          (None, 512)               0         \n",
      "_________________________________________________________________\n",
      "dense_2 (Dense)              (None, 512)               262656    \n",
      "_________________________________________________________________\n",
      "dropout_2 (Dropout)          (None, 512)               0         \n",
      "_________________________________________________________________\n",
      "dense_3 (Dense)              (None, 5)                 2565      \n",
      "=================================================================\n",
      "Total params: 26,882,629\n",
      "Trainable params: 26,882,629\n",
      "Non-trainable params: 0\n",
      "_________________________________________________________________\n",
      "None\n"
     ]
    }
   ],
   "source": [
    "opt = Adam(lr=1e-5, clipvalue=5)\n",
    "#model.compile(optimizer=opt, loss=cce_function, metrics=['accuracy'])\n",
    "model.compile(optimizer=opt, loss=categorical_crossentropy, metrics=['accuracy'])\n",
    "print(model.summary())"
   ]
  },
  {
   "cell_type": "code",
   "execution_count": 11,
   "metadata": {},
   "outputs": [],
   "source": [
    "batch_size = 16\n",
    "train_it = batch_generator(train_X, train_Y, batch_size, shuffle=True)\n",
    "val_it = batch_generator(val_X, val_Y, batch_size)\n",
    "\n",
    "reduce_lr = ReduceLROnPlateau(monitor='val_loss', factor=math.sqrt(0.1),\n",
    "                              patience=5, min_lr=1e-8, verbose=1)"
   ]
  },
  {
   "cell_type": "code",
   "execution_count": 17,
   "metadata": {
    "scrolled": true
   },
   "outputs": [
    {
     "name": "stdout",
     "output_type": "stream",
     "text": [
      "Epoch 1/30\n",
      "281/281 [==============================] - 24s 86ms/step - loss: 0.6856 - acc: 0.7400 - val_loss: 0.5714 - val_acc: 0.8500\n",
      "Epoch 2/30\n",
      "281/281 [==============================] - 24s 86ms/step - loss: 0.6590 - acc: 0.7609 - val_loss: 0.4604 - val_acc: 0.8375\n",
      "Epoch 3/30\n",
      "281/281 [==============================] - 24s 86ms/step - loss: 0.6194 - acc: 0.7660 - val_loss: 0.6275 - val_acc: 0.7500\n",
      "Epoch 4/30\n",
      "281/281 [==============================] - 24s 86ms/step - loss: 0.5946 - acc: 0.7796 - val_loss: 0.8415 - val_acc: 0.6250\n",
      "Epoch 5/30\n",
      "281/281 [==============================] - 24s 86ms/step - loss: 0.5545 - acc: 0.8040 - val_loss: 0.6129 - val_acc: 0.8250\n",
      "Epoch 6/30\n",
      "281/281 [==============================] - 24s 86ms/step - loss: 0.5415 - acc: 0.8081 - val_loss: 0.7544 - val_acc: 0.7125\n",
      "Epoch 7/30\n",
      "281/281 [==============================] - 24s 86ms/step - loss: 0.4984 - acc: 0.8183 - val_loss: 1.0619 - val_acc: 0.5875\n",
      "\n",
      "Epoch 00007: ReduceLROnPlateau reducing learning rate to 3.1622775802825263e-06.\n",
      "Epoch 8/30\n",
      "281/281 [==============================] - 24s 87ms/step - loss: 0.4304 - acc: 0.8485 - val_loss: 1.0514 - val_acc: 0.5750\n",
      "Epoch 9/30\n",
      "281/281 [==============================] - 24s 87ms/step - loss: 0.3966 - acc: 0.8603 - val_loss: 0.5761 - val_acc: 0.8000\n",
      "Epoch 10/30\n",
      "281/281 [==============================] - 24s 87ms/step - loss: 0.3870 - acc: 0.8694 - val_loss: 0.7584 - val_acc: 0.7000\n",
      "Epoch 11/30\n",
      "281/281 [==============================] - 24s 87ms/step - loss: 0.3653 - acc: 0.8730 - val_loss: 0.6231 - val_acc: 0.7750\n",
      "Epoch 12/30\n",
      "281/281 [==============================] - 24s 87ms/step - loss: 0.3616 - acc: 0.8761 - val_loss: 0.3986 - val_acc: 0.9000\n",
      "Epoch 13/30\n",
      "281/281 [==============================] - 24s 87ms/step - loss: 0.3359 - acc: 0.8866 - val_loss: 0.6962 - val_acc: 0.8125\n",
      "Epoch 14/30\n",
      "281/281 [==============================] - 24s 86ms/step - loss: 0.3309 - acc: 0.8843 - val_loss: 0.4739 - val_acc: 0.8500\n",
      "Epoch 15/30\n",
      "281/281 [==============================] - 24s 87ms/step - loss: 0.3050 - acc: 0.8937 - val_loss: 0.5250 - val_acc: 0.8375\n",
      "Epoch 16/30\n",
      "281/281 [==============================] - 24s 87ms/step - loss: 0.3072 - acc: 0.8937 - val_loss: 0.5088 - val_acc: 0.8500\n",
      "Epoch 17/30\n",
      "281/281 [==============================] - 24s 86ms/step - loss: 0.3057 - acc: 0.8959 - val_loss: 0.4552 - val_acc: 0.8375\n",
      "\n",
      "Epoch 00017: ReduceLROnPlateau reducing learning rate to 9.99999983430526e-07.\n",
      "Epoch 18/30\n",
      "281/281 [==============================] - 24s 86ms/step - loss: 0.2621 - acc: 0.9115 - val_loss: 0.5639 - val_acc: 0.8375\n",
      "Epoch 19/30\n",
      "281/281 [==============================] - 24s 86ms/step - loss: 0.2549 - acc: 0.9199 - val_loss: 0.7350 - val_acc: 0.7875\n",
      "Epoch 20/30\n",
      "281/281 [==============================] - 24s 86ms/step - loss: 0.2539 - acc: 0.9161 - val_loss: 0.7497 - val_acc: 0.7750\n",
      "Epoch 21/30\n",
      "281/281 [==============================] - 24s 86ms/step - loss: 0.2405 - acc: 0.9226 - val_loss: 0.9775 - val_acc: 0.6375\n",
      "Epoch 22/30\n",
      "281/281 [==============================] - 24s 86ms/step - loss: 0.2385 - acc: 0.9228 - val_loss: 0.8140 - val_acc: 0.7250\n",
      "\n",
      "Epoch 00022: ReduceLROnPlateau reducing learning rate to 3.162277652184396e-07.\n",
      "Epoch 23/30\n",
      "281/281 [==============================] - 24s 86ms/step - loss: 0.2389 - acc: 0.9206 - val_loss: 0.9652 - val_acc: 0.6750\n",
      "Epoch 24/30\n",
      "281/281 [==============================] - 24s 87ms/step - loss: 0.2235 - acc: 0.9273 - val_loss: 1.0022 - val_acc: 0.7000\n",
      "Epoch 25/30\n",
      "281/281 [==============================] - 24s 86ms/step - loss: 0.2324 - acc: 0.9270 - val_loss: 0.6359 - val_acc: 0.7875\n",
      "Epoch 26/30\n",
      "281/281 [==============================] - 24s 87ms/step - loss: 0.2281 - acc: 0.9255 - val_loss: 0.6955 - val_acc: 0.7875\n",
      "Epoch 27/30\n",
      "281/281 [==============================] - 24s 87ms/step - loss: 0.2171 - acc: 0.9342 - val_loss: 0.6391 - val_acc: 0.7750\n",
      "\n",
      "Epoch 00027: ReduceLROnPlateau reducing learning rate to 9.999999654550589e-08.\n",
      "Epoch 28/30\n",
      "281/281 [==============================] - 24s 87ms/step - loss: 0.2173 - acc: 0.9315 - val_loss: 0.3785 - val_acc: 0.8750\n",
      "Epoch 29/30\n",
      "281/281 [==============================] - 24s 86ms/step - loss: 0.2102 - acc: 0.9313 - val_loss: 0.7201 - val_acc: 0.8375\n",
      "Epoch 30/30\n",
      "281/281 [==============================] - 24s 87ms/step - loss: 0.2123 - acc: 0.9322 - val_loss: 0.4302 - val_acc: 0.8375\n"
     ]
    },
    {
     "data": {
      "text/plain": [
       "<keras.callbacks.History at 0x2b42c4c6c4e0>"
      ]
     },
     "execution_count": 17,
     "metadata": {},
     "output_type": "execute_result"
    }
   ],
   "source": [
    "model.fit_generator(train_it,\n",
    "                    steps_per_epoch=len(train_X)//batch_size,\n",
    "                    validation_data=val_it,\n",
    "                    validation_steps=len(val_X)//batch_size,\n",
    "                    epochs=30,\n",
    "                    callbacks=[reduce_lr],\n",
    "                    verbose=1)"
   ]
  },
  {
   "cell_type": "code",
   "execution_count": 18,
   "metadata": {},
   "outputs": [
    {
     "name": "stdout",
     "output_type": "stream",
     "text": [
      "Confusion Matrix\n",
      "[[256  10  23   6   5]\n",
      " [ 18 179  36   5  12]\n",
      " [ 26  35 200  11   5]\n",
      " [  4  12   9 164  15]\n",
      " [  4  12   5  19 217]]\n"
     ]
    }
   ],
   "source": [
    "val_it = batch_generator(val_X, val_Y, 1)\n",
    "Y_pred = model.predict_generator(val_it, 1288)\n",
    "y_pred = np.argmax(Y_pred, axis=1)\n",
    "\n",
    "print('Confusion Matrix')\n",
    "print(confusion_matrix(val_data[:,8193], y_pred))"
   ]
  },
  {
   "cell_type": "code",
   "execution_count": 19,
   "metadata": {},
   "outputs": [
    {
     "name": "stdout",
     "output_type": "stream",
     "text": [
      "Confusion Matrix\n",
      "[[127   8  10   3   2]\n",
      " [  7  83  24   5   6]\n",
      " [  9  23 101   4   2]\n",
      " [  2   4   6  87   4]\n",
      " [  2   7   8   7 105]]\n"
     ]
    }
   ],
   "source": [
    "test_it = batch_generator(test_X, test_Y, 1)\n",
    "Y_pred = model.predict_generator(test_it, len(test_X))\n",
    "y_pred = np.argmax(Y_pred, axis=1)\n",
    "\n",
    "print('Confusion Matrix')\n",
    "print(confusion_matrix(test_data[:,8193], y_pred))"
   ]
  },
  {
   "cell_type": "code",
   "execution_count": 20,
   "metadata": {},
   "outputs": [],
   "source": [
    "from sklearn.utils.multiclass import unique_labels\n",
    "\n",
    "def plot_confusion_matrix(y_true, y_pred, classes,\n",
    "                          normalize=False,\n",
    "                          title=None,\n",
    "                          cmap=plt.cm.Blues):\n",
    "    \"\"\"\n",
    "    This function prints and plots the confusion matrix.\n",
    "    Normalization can be applied by setting `normalize=True`.\n",
    "    \"\"\"\n",
    "    if not title:\n",
    "        if normalize:\n",
    "            title = 'Normalized confusion matrix'\n",
    "        else:\n",
    "            title = 'Confusion matrix, without normalization'\n",
    "    # Compute confusion matrix\n",
    "    cm = confusion_matrix(y_true, y_pred)\n",
    "    # Only use the labels that appear in the data\n",
    "    classes = classes[unique_labels(y_true, y_pred)]\n",
    "    if normalize:\n",
    "        cm = cm.astype('float') / cm.sum(axis=1)[:, np.newaxis]\n",
    "        print(\"Normalized confusion matrix\")\n",
    "    else:\n",
    "        print('Confusion matrix, without normalization')\n",
    "    fig, ax = plt.subplots()\n",
    "    im = ax.imshow(cm, interpolation='nearest', cmap=cmap)\n",
    "    ax.figure.colorbar(im, ax=ax)\n",
    "    # We want to show all ticks...\n",
    "    ax.set(xticks=np.arange(cm.shape[1]),\n",
    "           yticks=np.arange(cm.shape[0]),\n",
    "           # ... and label them with the respective list entries\n",
    "           xticklabels=classes, yticklabels=classes,\n",
    "           title=title,\n",
    "           ylabel='Measured Performance',\n",
    "           xlabel='Predicted Performance')\n",
    "    # Rotate the tick labels and set their alignment.\n",
    "    plt.setp(ax.get_xticklabels(), rotation=45, ha=\"right\",\n",
    "             rotation_mode=\"anchor\")\n",
    "    # Loop over data dimensions and create text annotations.\n",
    "    fmt = '.2f' if normalize else 'd'\n",
    "    thresh = cm.max() / 2.\n",
    "    for i in range(cm.shape[0]):\n",
    "        for j in range(cm.shape[1]):\n",
    "            ax.text(j, i, format(cm[i, j], fmt),\n",
    "                    ha=\"center\", va=\"center\",\n",
    "                    color=\"white\" if cm[i, j] > thresh else \"black\")\n",
    "    fig.tight_layout()\n",
    "    return ax"
   ]
  },
  {
   "cell_type": "code",
   "execution_count": 21,
   "metadata": {},
   "outputs": [
    {
     "name": "stdout",
     "output_type": "stream",
     "text": [
      "Confusion matrix, without normalization\n"
     ]
    },
    {
     "data": {
      "text/plain": [
       "<matplotlib.axes._subplots.AxesSubplot at 0x2b42cc5bfcc0>"
      ]
     },
     "execution_count": 21,
     "metadata": {},
     "output_type": "execute_result"
    },
    {
     "data": {
      "image/png": "[encoded data removed]",
      "text/plain": [
       "<Figure size 432x288 with 2 Axes>"
      ]
     },
     "metadata": {
      "needs_background": "light"
     },
     "output_type": "display_data"
    }
   ],
   "source": [
    "plot_confusion_matrix(array(np.argmax(test_Y, axis=1)), array(y_pred), classes=array(['Ia', 'Ib', 'Ic', 'IIn', 'IIP']), title='Confusion matrix, without normalization')"
   ]
  },
  {
   "cell_type": "code",
   "execution_count": null,
   "metadata": {},
   "outputs": [],
   "source": []
  }
 ],
 "metadata": {
  "kernelspec": {
   "display_name": "Python 3",
   "language": "python",
   "name": "python3"
  },
  "language_info": {
   "codemirror_mode": {
    "name": "ipython",
    "version": 3
   },
   "file_extension": ".py",
   "mimetype": "text/x-python",
   "name": "python",
   "nbconvert_exporter": "python",
   "pygments_lexer": "ipython3",
   "version": "3.7.0"
  }
 },
 "nbformat": 4,
 "nbformat_minor": 2
}
